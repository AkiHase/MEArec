{
 "cells": [
  {
   "cell_type": "code",
   "execution_count": null,
   "metadata": {},
   "outputs": [],
   "source": [
    "import MEArec as mr\n",
    "import numpy as np\n",
    "import matplotlib.pylab as plt\n",
    "from pprint import pprint\n",
    "import yaml \n",
    "%matplotlib notebook"
   ]
  },
  {
   "cell_type": "code",
   "execution_count": null,
   "metadata": {},
   "outputs": [],
   "source": [
    "rec_params  =mr.get_default_recordings_params()\n",
    "rec_params = yaml.load(f, Loader=yaml.FullLoader)\n",
    "pprint(rec_params)"
   ]
  },
  {
   "cell_type": "code",
   "execution_count": null,
   "metadata": {},
   "outputs": [],
   "source": [
    "# change parameters\n",
    "rec_params['spiketrains']['n_exc'] = 30\n",
    "rec_params['spiketrains']['n_inh'] = 10\n",
    "rec_params['templates']['max_amp'] = 300\n",
    "rec_params['recordings']['duration'] = 20\n",
    "\n",
    "# set seeds\n",
    "rec_params['spiketrains']['seed'] = np.random.randint(1000)\n",
    "rec_params['templates']['seed'] = np.random.randint(1000)\n",
    "\n",
    "# select templates\n",
    "template_file = '/home/alessiob/Documents/Codes/MEArec/data/templates/physrot/templates_100_Neuronexus-32_20-03-2019.h5'\n",
    "\n",
    "rec_params['recordings']['drifting'] = False\n",
    "rec_params['recordings']['noise_mode'] = 'uncorrelated'\n",
    "noise_levels = [5, 10, 15, 20, 25, 30, 50]\n",
    "\n",
    "recgen_list = []\n",
    "\n",
    "for n in noise_levels:\n",
    "    print('Noise level: ', n)\n",
    "    rec_params['recordings']['noise_level'] = n\n",
    "    rec_params['recordings']['seed'] = np.random.randint(1000)\n",
    "    recgen = mr.gen_recordings(templates=template_file, params=rec_params, verbose=False)\n",
    "    recgen_list.append(recgen)"
   ]
  },
  {
   "cell_type": "code",
   "execution_count": null,
   "metadata": {},
   "outputs": [],
   "source": [
    "fig = plt.figure()\n",
    "ax = fig.add_subplot(111)\n",
    "\n",
    "colors = plt.rcParams['axes.prop_cycle'].by_key()['color']\n",
    "for i, recgen in enumerate(recgen_list[::-1]):\n",
    "    mr.plot_recordings(recgen, ax=ax, end_time=1, colors=colors[i])"
   ]
  },
  {
   "cell_type": "code",
   "execution_count": null,
   "metadata": {},
   "outputs": [],
   "source": [
    "# simulate different drifting velocities\n",
    "# change parameters\n",
    "rec_params['spiketrains']['n_exc'] = 10\n",
    "rec_params['spiketrains']['n_inh'] = 5\n",
    "rec_params['templates']['max_amp'] = 300\n",
    "rec_params['recordings']['duration'] = 20\n",
    "\n",
    "# set seeds\n",
    "rec_params['spiketrains']['seed'] = np.random.randint(1000)\n",
    "rec_params['templates']['seed'] = np.random.randint(1000)\n",
    "\n",
    "# select templates\n",
    "template_file_drift = '/home/alessiob/Documents/Codes/MEArec/data/templates/physrot/templates_30_Neuronexus-32_drift_22-03-2019.h5'\n",
    "\n",
    "rec_params['recordings']['noise_mode'] = 'uncorrelated'\n",
    "rec_params['recordings']['noise_level'] = 20\n",
    "\n",
    "rec_params['recordings']['drifting'] = True\n",
    "drift_velocities = [10, 30, 100, 300]\n",
    "\n",
    "recgen_list_drift = []\n",
    "\n",
    "for d in drift_velocities:\n",
    "    print('Drifting velocity: ', d)\n",
    "    rec_params['recordings']['drift_velocity'] = d\n",
    "    recgen = mr.gen_recordings(templates=template_file_drift, params=rec_params, verbose=True)\n",
    "    recgen_list_drift.append(recgen)"
   ]
  },
  {
   "cell_type": "code",
   "execution_count": null,
   "metadata": {},
   "outputs": [],
   "source": [
    "fig = plt.figure()\n",
    "ax = fig.add_subplot(111)\n",
    "n_samples = int(20 * 32000) \n",
    "\n",
    "colors = plt.rcParams['axes.prop_cycle'].by_key()['color']\n",
    "for i, recgen in enumerate(recgen_list_drift[::-1]):\n",
    "    mr.plot_recordings(recgen, ax=ax, end_time=20, colors=colors[i])"
   ]
  }
 ],
 "metadata": {
  "kernelspec": {
   "display_name": "Python 3",
   "language": "python",
   "name": "python3"
  },
  "language_info": {
   "codemirror_mode": {
    "name": "ipython",
    "version": 3
   },
   "file_extension": ".py",
   "mimetype": "text/x-python",
   "name": "python",
   "nbconvert_exporter": "python",
   "pygments_lexer": "ipython3",
   "version": "3.6.7"
  }
 },
 "nbformat": 4,
 "nbformat_minor": 2
}
