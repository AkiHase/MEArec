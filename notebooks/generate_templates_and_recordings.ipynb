{
 "cells": [
  {
   "cell_type": "code",
   "execution_count": 13,
   "metadata": {},
   "outputs": [],
   "source": [
    "import MEArec as mr\n",
    "import MEAutility as mu"
   ]
  },
  {
   "cell_type": "code",
   "execution_count": 5,
   "metadata": {},
   "outputs": [
    {
     "name": "stdout",
     "output_type": "stream",
     "text": [
      "Probe randomly set to: Neuronexus-32\n",
      "Parallel\n",
      "Starting Thread-0\n",
      "\n",
      "\n",
      " L5_NBC_bAC217_1 1 / 13 \n",
      "\n",
      "\n",
      "Starting Thread-1\n",
      "\n",
      "\n",
      " L5_LBC_bAC217_1 2 / 13 \n",
      "\n",
      "\n",
      "Starting Thread-2\n",
      "\n",
      "\n",
      " L5_TTPC2_cADpyr232_1 3 / 13 \n",
      "\n",
      "\n",
      "Starting Thread-3\n",
      "\n",
      "\n",
      " L5_MC_bAC217_1 4 / 13 \n",
      "\n",
      "\n",
      "Starting Thread-4\n",
      "\n",
      "\n",
      " L5_STPC_cADpyr232_1 5 / 13 \n",
      "\n",
      "\n",
      "Starting Thread-5\n",
      "\n",
      "\n",
      " L5_BP_bAC217_1 6 / 13 \n",
      "\n",
      "\n",
      "Starting Thread-6\n",
      "\n",
      "\n",
      " L5_TTPC1_cADpyr232_1 7 / 13 \n",
      "\n",
      "\n",
      "Starting Thread-7\n",
      "\n",
      "\n",
      " L5_BTC_bAC217_1 8 / 13 \n",
      "\n",
      "\n",
      "Starting Thread-8\n",
      "\n",
      "\n",
      " L5_UTPC_cADpyr232_1 9 / 13 \n",
      "\n",
      "\n",
      "Starting Thread-9\n",
      "\n",
      "\n",
      " L5_ChC_cACint209_1 10 / 13 \n",
      "\n",
      "\n",
      "Starting Thread-10\n",
      "\n",
      "\n",
      " L5_NGC_bNAC219_1 11 / 13 \n",
      "\n",
      "\n",
      "Starting Thread-11\n",
      "\n",
      "\n",
      " L5_DBC_bAC217_1 12 / 13 \n",
      "\n",
      "\n",
      "Starting Thread-12\n",
      "\n",
      "\n",
      " L5_SBC_bNAC219_1 13 / 13 \n",
      "\n",
      "\n",
      "Exiting Thread-7\n",
      "Exiting Thread-4\n",
      "Exiting Thread-0\n",
      "Exiting Thread-11\n",
      "Exiting Thread-3\n",
      "Exiting Thread-9\n",
      "Exiting Thread-1\n",
      "Exiting Thread-2\n",
      "Exiting Thread-12\n",
      "Exiting Thread-6\n",
      "Exiting Thread-10\n",
      "Exiting Thread-8\n",
      "Exiting Thread-5\n",
      "\n",
      "\n",
      "\n",
      "Simulation time:  166.28858494758606 \n",
      "\n",
      "\n",
      "\n"
     ]
    }
   ],
   "source": [
    "# define cell_models folder\n",
    "cell_folder = '../cell_models/bbp'\n",
    "\n",
    "# generate templates with default params (n=20)\n",
    "tempgen = mr.gen_templates(cell_folder, params={'n':20}, templates_folder='../data/templates')\n",
    "\n",
    "# this will take a few minutes..."
   ]
  },
  {
   "cell_type": "code",
   "execution_count": 8,
   "metadata": {},
   "outputs": [
    {
     "name": "stdout",
     "output_type": "stream",
     "text": [
      "'recording_folder' not specified: using cwd\n",
      "{'cell_types': {},\n",
      " 'recordings': {'chunk_duration': 0,\n",
      "                'cutoff': [300.0, 6000.0],\n",
      "                'duration': 10.0,\n",
      "                'electrode_name': 'Neuronexus-32',\n",
      "                'filter': True,\n",
      "                'fs': 32000.0,\n",
      "                'modulation': 'electrode',\n",
      "                'mrand': 1,\n",
      "                'n_neurons': 20,\n",
      "                'noise_level': 15,\n",
      "                'noise_mode': 'uncorrelated',\n",
      "                'overlap': False,\n",
      "                'recordings': 9928,\n",
      "                'sdrand': 0.05,\n",
      "                'seed': 623},\n",
      " 'spiketrains': {'duration': 10,\n",
      "                 'f_exc': 5,\n",
      "                 'f_inh': 15,\n",
      "                 'min_rate': 0.1,\n",
      "                 'n_exc': 15,\n",
      "                 'n_inh': 5,\n",
      "                 'process': 'poisson',\n",
      "                 'ref_per': 2,\n",
      "                 'seed': 935,\n",
      "                 'st_exc': 1,\n",
      "                 'st_inh': 3,\n",
      "                 't_start': 0},\n",
      " 'templates': {'min_amp': 50,\n",
      "               'min_dist': 25,\n",
      "               'n_jitters': 10,\n",
      "               'overlap_threshold': 0.8,\n",
      "               'pad_len': [3.0, 3.0],\n",
      "               'seed': 7802,\n",
      "               'upsample': 8,\n",
      "               'x_lim': None,\n",
      "               'y_lim': None,\n",
      "               'z_lim': None}}\n",
      "Selecting cells\n",
      "Padding template edges\n",
      "Creating time jittering\n",
      "Computing spike train SNR\n",
      "Adding spiketrain annotations\n",
      "electrode\n",
      "Convolving with spike  0  out of  20\n",
      "START: convolution with spike  0\n",
      "Convolving with spike  1  out of  20\n",
      "START: convolution with spike  1\n",
      "Convolving with spike  2  out of  20\n",
      "START: convolution with spike  2\n",
      "Convolving with spike  3  out of  20\n",
      "START: convolution with spike  3\n",
      "Convolving with spike  4  out of  20\n",
      "START: convolution with spike  4\n",
      "Convolving with spike  5  out of  20\n",
      "START: convolution with spike  5\n",
      "Convolving with spike  6  out of  20\n",
      "START: convolution with spike  6\n",
      "Convolving with spike  7  out of  20\n",
      "START: convolution with spike  7\n",
      "Convolving with spike  8  out of  20\n",
      "START: convolution with spike  8\n",
      "Convolving with spike  9  out of  20\n",
      "START: convolution with spike  9\n",
      "Convolving with spike  10  out of  20\n",
      "START: convolution with spike  10\n",
      "Convolving with spike  11  out of  20\n",
      "START: convolution with spike  11\n",
      "Convolving with spike  12  out of  20\n",
      "START: convolution with spike  12\n",
      "Convolving with spike  13  out of  20\n",
      "START: convolution with spike  13\n",
      "Convolving with spike  14  out of  20\n",
      "START: convolution with spike  14\n",
      "Convolving with spike  15  out of  20\n",
      "START: convolution with spike  15\n",
      "Convolving with spike  16  out of  20\n",
      "START: convolution with spike  16\n",
      "Convolving with spike  17  out of  20\n",
      "START: convolution with spike  17\n",
      "Convolving with spike  18  out of  20\n",
      "START: convolution with spike  18\n",
      "Convolving with spike  19  out of  20\n",
      "START: convolution with spike  19\n",
      "Elapsed time  0.8478496074676514\n",
      "Adding noise\n",
      "Filtering signals\n",
      "Filtering signals with  bandpass  filter at  [ 300. 6000.] Hz ...\n",
      "Extracting spike waveforms\n"
     ]
    }
   ],
   "source": [
    "recgen = mr.gen_recordings(tempgen=tempgen, recording_folder='../data/recordings')"
   ]
  },
  {
   "cell_type": "code",
   "execution_count": 11,
   "metadata": {},
   "outputs": [
    {
     "name": "stdout",
     "output_type": "stream",
     "text": [
      "{'spiketrains': {'seed': 935, 't_start': 0, 'duration': 10, 'min_rate': 0.1, 'ref_per': 2, 'process': 'poisson', 'f_exc': 5, 'f_inh': 15, 'st_exc': 1, 'st_inh': 3, 'n_exc': 15, 'n_inh': 5}, 'templates': {'seed': 7802, 'x_lim': None, 'y_lim': None, 'z_lim': None, 'min_amp': 50, 'min_dist': 25, 'overlap_threshold': 0.8, 'pad_len': [3.0, 3.0], 'n_jitters': 10, 'upsample': 8}, 'recordings': {'recordings': 9928, 'fs': 32000.0, 'noise_level': 15, 'noise_mode': 'uncorrelated', 'filter': True, 'cutoff': [300.0, 6000.0], 'modulation': 'electrode', 'chunk_duration': 0, 'mrand': 1, 'sdrand': 0.05, 'overlap': False, 'seed': 623, 'electrode_name': 'Neuronexus-32', 'duration': 10.0, 'n_neurons': 20}, 'cell_types': {}}\n"
     ]
    }
   ],
   "source": [
    "print(recgen.info)"
   ]
  },
  {
   "cell_type": "code",
   "execution_count": 16,
   "metadata": {},
   "outputs": [
    {
     "data": {
      "text/plain": [
       "<matplotlib.axes._subplots.AxesSubplot at 0x7f821edfb630>"
      ]
     },
     "execution_count": 16,
     "metadata": {},
     "output_type": "execute_result"
    },
    {
     "data": {
      "image/png": "[encoded data removed]",
      "text/plain": [
       "<Figure size 432x288 with 1 Axes>"
      ]
     },
     "metadata": {},
     "output_type": "display_data"
    }
   ],
   "source": [
    "# plot template\n",
    "probe_name = recgen.info['recordings']['electrode_name']\n",
    "mea = mu.return_mea(probe_name)\n",
    "\n",
    "mu.plot_mea_recording(tempgen.templates[0], mea)"
   ]
  },
  {
   "cell_type": "code",
   "execution_count": 17,
   "metadata": {},
   "outputs": [
    {
     "data": {
      "text/plain": [
       "<matplotlib.axes._subplots.AxesSubplot at 0x7f81f808b978>"
      ]
     },
     "execution_count": 17,
     "metadata": {},
     "output_type": "execute_result"
    },
    {
     "data": {
      "image/png": "[encoded data removed]",
      "text/plain": [
       "<Figure size 432x288 with 1 Axes>"
      ]
     },
     "metadata": {},
     "output_type": "display_data"
    }
   ],
   "source": [
    "mu.plot_mea_recording(recgen.recordings, mea)"
   ]
  }
 ],
 "metadata": {
  "kernelspec": {
   "display_name": "Python 3",
   "language": "python",
   "name": "python3"
  },
  "language_info": {
   "codemirror_mode": {
    "name": "ipython",
    "version": 3
   },
   "file_extension": ".py",
   "mimetype": "text/x-python",
   "name": "python",
   "nbconvert_exporter": "python",
   "pygments_lexer": "ipython3",
   "version": "3.6.5"
  }
 },
 "nbformat": 4,
 "nbformat_minor": 2
}
