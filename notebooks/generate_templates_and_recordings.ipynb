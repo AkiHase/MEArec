{
 "cells": [
  {
   "cell_type": "code",
   "execution_count": null,
   "metadata": {},
   "outputs": [],
   "source": [
    "import MEArec as mr\n",
    "import MEAutility as mu\n",
    "from pprint import pprint"
   ]
  },
  {
   "cell_type": "code",
   "execution_count": null,
   "metadata": {},
   "outputs": [],
   "source": [
    "# define cell_models folder\n",
    "cell_folder = '../cell_models/bbp'\n",
    "\n",
    "# generate templates with default params (n=20) \n",
    "# the templates are not saved, but the intracellular simulations are saved in 'templates_folder'\n",
    "tempgen = mr.gen_templates(cell_folder, params={'n':20}, templates_folder='../data/templates')\n",
    "\n",
    "# this will take a few minutes..."
   ]
  },
  {
   "cell_type": "code",
   "execution_count": null,
   "metadata": {},
   "outputs": [],
   "source": [
    "# save templates in h5 format\n",
    "mr.save_template_generator(tempgen, filename='test_templates.h5')\n",
    "\n",
    "# save in folder format\n",
    "mr.save_template_generator(tempgen, filename='test_templates')\n",
    "\n",
    "# load back template generator\n",
    "tempgen_loaded = mr.load_templates('test_templates.h5')"
   ]
  },
  {
   "cell_type": "code",
   "execution_count": null,
   "metadata": {},
   "outputs": [],
   "source": [
    "# pass h5, folder, or template_generator object\n",
    "\n",
    "recgen = mr.gen_recordings(templates='test_templates.h5')\n",
    "# recgen_1 = mr.gen_recordings(templates='test_templates')\n",
    "# recgen_2 = mr.gen_recordings(tempgen=tempgen)\n"
   ]
  },
  {
   "cell_type": "code",
   "execution_count": null,
   "metadata": {},
   "outputs": [],
   "source": [
    "# save recordings in h5 format\n",
    "mr.save_recording_generator(recgen, filename='test_recordings.h5')\n",
    "\n",
    "# save recordings in h5 format\n",
    "mr.save_recording_generator(recgen, filename='test_recordings')\n",
    "\n",
    "# load back recording generator\n",
    "recgen_load = mr.load_recordings('test_recordings')"
   ]
  },
  {
   "cell_type": "code",
   "execution_count": null,
   "metadata": {},
   "outputs": [],
   "source": [
    "# plot template\n",
    "probe_name = recgen.info['recordings']['electrode_name']\n",
    "mea = mu.return_mea(probe_name)\n",
    "\n",
    "mu.plot_mea_recording(tempgen.templates[0], mea)"
   ]
  },
  {
   "cell_type": "code",
   "execution_count": null,
   "metadata": {},
   "outputs": [],
   "source": [
    "mu.plot_mea_recording(recgen.recordings, mea)"
   ]
  }
 ],
 "metadata": {
  "kernelspec": {
   "display_name": "Python 3",
   "language": "python",
   "name": "python3"
  },
  "language_info": {
   "codemirror_mode": {
    "name": "ipython",
    "version": 3
   },
   "file_extension": ".py",
   "mimetype": "text/x-python",
   "name": "python",
   "nbconvert_exporter": "python",
   "pygments_lexer": "ipython3",
   "version": "3.6.7"
  }
 },
 "nbformat": 4,
 "nbformat_minor": 2
}
